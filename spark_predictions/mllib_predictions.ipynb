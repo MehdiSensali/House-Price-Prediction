{
 "cells": [
  {
   "cell_type": "code",
   "execution_count": 1,
   "metadata": {},
   "outputs": [],
   "source": [
    "from pyspark.sql import SparkSession\n",
    "from pyspark.conf import SparkConf\n",
    "from pyspark.sql.types import *\n",
    "from pyspark.sql.functions import *"
   ]
  },
  {
   "cell_type": "code",
   "execution_count": 4,
   "metadata": {},
   "outputs": [
    {
     "data": {
      "text/plain": [
       "<pyspark.conf.SparkConf at 0x1c661407550>"
      ]
     },
     "execution_count": 4,
     "metadata": {},
     "output_type": "execute_result"
    }
   ],
   "source": [
    "spark_conf = SparkConf()\n",
    "spark_conf.setMaster('local[*]')\n",
    "spark_conf.setAppName('Spark Price predictions')"
   ]
  },
  {
   "cell_type": "code",
   "execution_count": 5,
   "metadata": {},
   "outputs": [],
   "source": [
    "spark = SparkSession.builder.config(conf=spark_conf).getOrCreate()"
   ]
  },
  {
   "cell_type": "code",
   "execution_count": 18,
   "metadata": {},
   "outputs": [],
   "source": [
    "data = spark.read.options(**{\"inferSchema\": True, \"header\": True}).csv(\"../train.csv\")"
   ]
  },
  {
   "cell_type": "markdown",
   "metadata": {},
   "source": [
    "selecting high correlation features based on previous statistic results"
   ]
  },
  {
   "cell_type": "code",
   "execution_count": 20,
   "metadata": {},
   "outputs": [],
   "source": [
    "feature_target_list = ['YearRemodAdd',\n",
    "                      'YearBuilt',\n",
    "                      'TotRmsAbvGrd',\n",
    "                      'FullBath',\n",
    "                      '1stFlrSF',\n",
    "                      'TotalBsmtSF',\n",
    "                      'GarageArea',\n",
    "                      'GarageCars',\n",
    "                      'GrLivArea',\n",
    "                      'OverallQual',\n",
    "                      'SalePrice']\n",
    "data_high_corr = data.select(feature_target_list)"
   ]
  },
  {
   "cell_type": "markdown",
   "metadata": {},
   "source": [
    "ML lib"
   ]
  },
  {
   "cell_type": "code",
   "execution_count": 25,
   "metadata": {},
   "outputs": [],
   "source": [
    "from pyspark.ml.feature import VectorAssembler\n",
    "from pyspark.ml.regression import LinearRegression\n",
    "from pyspark.ml.evaluation import RegressionEvaluator"
   ]
  },
  {
   "cell_type": "markdown",
   "metadata": {},
   "source": [
    "Transforming df for ml "
   ]
  },
  {
   "cell_type": "code",
   "execution_count": 21,
   "metadata": {},
   "outputs": [
    {
     "name": "stdout",
     "output_type": "stream",
     "text": [
      "+-------------------------------------------------------+---------+\n",
      "|features                                               |SalePrice|\n",
      "+-------------------------------------------------------+---------+\n",
      "|[2003.0,2003.0,8.0,2.0,856.0,856.0,548.0,2.0,1710.0]   |208500   |\n",
      "|[1976.0,1976.0,6.0,2.0,1262.0,1262.0,460.0,2.0,1262.0] |181500   |\n",
      "|[2002.0,2001.0,6.0,2.0,920.0,920.0,608.0,2.0,1786.0]   |223500   |\n",
      "|[1970.0,1915.0,7.0,1.0,961.0,756.0,642.0,3.0,1717.0]   |140000   |\n",
      "|[2000.0,2000.0,9.0,2.0,1145.0,1145.0,836.0,3.0,2198.0] |250000   |\n",
      "|[1995.0,1993.0,5.0,1.0,796.0,796.0,480.0,2.0,1362.0]   |143000   |\n",
      "|[2005.0,2004.0,7.0,2.0,1694.0,1686.0,636.0,2.0,1694.0] |307000   |\n",
      "|[1973.0,1973.0,7.0,2.0,1107.0,1107.0,484.0,2.0,2090.0] |200000   |\n",
      "|[1950.0,1931.0,8.0,2.0,1022.0,952.0,468.0,2.0,1774.0]  |129900   |\n",
      "|[1950.0,1939.0,5.0,1.0,1077.0,991.0,205.0,1.0,1077.0]  |118000   |\n",
      "|[1965.0,1965.0,5.0,1.0,1040.0,1040.0,384.0,1.0,1040.0] |129500   |\n",
      "|[2006.0,2005.0,11.0,3.0,1182.0,1175.0,736.0,3.0,2324.0]|345000   |\n",
      "|[1962.0,1962.0,4.0,1.0,912.0,912.0,352.0,1.0,912.0]    |144000   |\n",
      "|[2007.0,2006.0,7.0,2.0,1494.0,1494.0,840.0,3.0,1494.0] |279500   |\n",
      "|[1960.0,1960.0,5.0,1.0,1253.0,1253.0,352.0,1.0,1253.0] |157000   |\n",
      "|[2001.0,1929.0,5.0,1.0,854.0,832.0,576.0,2.0,854.0]    |132000   |\n",
      "|[1970.0,1970.0,5.0,1.0,1004.0,1004.0,480.0,2.0,1004.0] |149000   |\n",
      "|[1967.0,1967.0,6.0,2.0,1296.0,0.0,516.0,2.0,1296.0]    |90000    |\n",
      "|[2004.0,2004.0,6.0,1.0,1114.0,1114.0,576.0,2.0,1114.0] |159000   |\n",
      "|[1965.0,1958.0,6.0,1.0,1339.0,1029.0,294.0,1.0,1339.0] |139000   |\n",
      "+-------------------------------------------------------+---------+\n",
      "only showing top 20 rows\n",
      "\n"
     ]
    }
   ],
   "source": [
    "vectorAssembler = VectorAssembler(inputCols=feature_target_list[:-2], outputCol='features')\n",
    "vdf_train_high_corr = vectorAssembler.transform(data_high_corr)\n",
    "vdf_train_high_corr.select(['features', 'SalePrice']).show(truncate=False)"
   ]
  },
  {
   "cell_type": "markdown",
   "metadata": {},
   "source": [
    "Spliting between train and test"
   ]
  },
  {
   "cell_type": "code",
   "execution_count": 37,
   "metadata": {},
   "outputs": [],
   "source": [
    "splits = vdf_train_high_corr.randomSplit(weights=[0.7, 0.3])\n",
    "df_train = splits[0]\n",
    "df_test = splits[1]"
   ]
  },
  {
   "cell_type": "code",
   "execution_count": 43,
   "metadata": {},
   "outputs": [
    {
     "data": {
      "text/plain": [
       "'Coefficients: [691.5792677071958,383.3711502709877,520.131599554052,-7433.711358088316,7.461129934263919,33.6365329429784,7.026929713949023,18410.787887794293,67.56553625070083]'"
      ]
     },
     "metadata": {},
     "output_type": "display_data"
    },
    {
     "data": {
      "text/plain": [
       "'Intercept: -2121034.4671841715'"
      ]
     },
     "metadata": {},
     "output_type": "display_data"
    }
   ],
   "source": [
    "lr = LinearRegression(featuresCol= 'features', labelCol='SalePrice', maxIter=10, regParam=0.3, elasticNetParam=0.8)\n",
    "lr_model = lr.fit(df_train)\n",
    "display(\"Coefficients: \" + str(lr_model.coefficients))\n",
    "display(\"Intercept: \" + str(lr_model.intercept))"
   ]
  },
  {
   "cell_type": "code",
   "execution_count": 44,
   "metadata": {},
   "outputs": [
    {
     "name": "stdout",
     "output_type": "stream",
     "text": [
      "RMSE: 40785.840661\n",
      "r2: 0.737006\n"
     ]
    }
   ],
   "source": [
    "trainingSummary = lr_model.summary\n",
    "print(\"RMSE: %f\" % trainingSummary.rootMeanSquaredError)\n",
    "print(\"r2: %f\" % trainingSummary.r2)"
   ]
  },
  {
   "cell_type": "code",
   "execution_count": 45,
   "metadata": {},
   "outputs": [
    {
     "name": "stdout",
     "output_type": "stream",
     "text": [
      "+------------------+---------+------------------------------------------------------+\n",
      "|prediction        |SalePrice|features                                              |\n",
      "+------------------+---------+------------------------------------------------------+\n",
      "|149442.4772968609 |117500   |[1950.0,1880.0,8.0,2.0,1178.0,1008.0,205.0,1.0,2210.0]|\n",
      "|171967.63640888175|122500   |[1950.0,1885.0,11.0,2.0,1246.0,777.0,560.0,2.0,2290.0]|\n",
      "|142450.72397768917|137000   |[1950.0,1910.0,9.0,2.0,908.0,1020.0,440.0,1.0,1928.0] |\n",
      "|129003.84104908863|105000   |[1950.0,1915.0,6.0,1.0,694.0,672.0,936.0,3.0,1214.0]  |\n",
      "|121982.83459070558|128000   |[1950.0,1915.0,6.0,1.0,841.0,806.0,216.0,1.0,1647.0]  |\n",
      "|115033.20444269711|107400   |[1950.0,1915.0,8.0,2.0,840.0,840.0,379.0,1.0,1605.0]  |\n",
      "|133581.6395658427 |98000    |[1950.0,1916.0,7.0,1.0,624.0,624.0,513.0,3.0,1344.0]  |\n",
      "|179449.07605061587|136000   |[1950.0,1916.0,10.0,2.0,1664.0,714.0,216.0,1.0,2526.0]|\n",
      "|171032.8279574872 |129500   |[1950.0,1917.0,8.0,1.0,1134.0,735.0,396.0,2.0,2058.0] |\n",
      "|95128.50637017749 |40000    |[1950.0,1920.0,6.0,1.0,649.0,649.0,250.0,1.0,1317.0]  |\n",
      "|89847.0313615622  |118400   |[1950.0,1920.0,6.0,1.0,1012.0,1012.0,308.0,1.0,1012.0]|\n",
      "|101373.03848091094|154900   |[1950.0,1921.0,7.0,1.0,820.0,731.0,186.0,1.0,1343.0]  |\n",
      "|135650.99739808124|140000   |[1950.0,1921.0,9.0,2.0,902.0,576.0,480.0,2.0,1710.0]  |\n",
      "|52916.274752369616|99900    |[1950.0,1922.0,4.0,1.0,864.0,864.0,0.0,0.0,864.0]     |\n",
      "|91810.01563943317 |137500   |[1950.0,1922.0,5.0,1.0,1180.0,700.0,252.0,1.0,1180.0] |\n",
      "|57877.835502472706|79000    |[1950.0,1924.0,5.0,1.0,572.0,572.0,0.0,0.0,1096.0]    |\n",
      "|100993.5626691468 |107000   |[1950.0,1925.0,8.0,1.0,810.0,686.0,210.0,1.0,1328.0]  |\n",
      "|80092.60449218703 |116900   |[1950.0,1926.0,5.0,1.0,572.0,572.0,288.0,1.0,1111.0]  |\n",
      "|65929.95765719283 |96500    |[1950.0,1926.0,5.0,1.0,789.0,768.0,200.0,1.0,789.0]   |\n",
      "|37550.24102285365 |68500    |[1950.0,1927.0,4.0,1.0,520.0,520.0,240.0,1.0,520.0]   |\n",
      "+------------------+---------+------------------------------------------------------+\n",
      "only showing top 20 rows\n",
      "\n"
     ]
    }
   ],
   "source": [
    "lr_predictions = lr_model.transform(df_test)\n",
    "lr_predictions.select(\"prediction\",\"SalePrice\",\"features\").show(truncate=False)"
   ]
  },
  {
   "cell_type": "markdown",
   "metadata": {},
   "source": [
    "1st test evaluation method"
   ]
  },
  {
   "cell_type": "code",
   "execution_count": 46,
   "metadata": {},
   "outputs": [
    {
     "name": "stdout",
     "output_type": "stream",
     "text": [
      "R Squared (R2) on test data = 0.712811\n"
     ]
    }
   ],
   "source": [
    "lr_evaluator = RegressionEvaluator(predictionCol=\"prediction\", \\\n",
    "                 labelCol=\"SalePrice\",metricName=\"r2\")\n",
    "print(\"R Squared (R2) on test data = %g\" % lr_evaluator.evaluate(lr_predictions))"
   ]
  },
  {
   "cell_type": "markdown",
   "metadata": {},
   "source": [
    "2nd test evaluation method"
   ]
  },
  {
   "cell_type": "code",
   "execution_count": 47,
   "metadata": {},
   "outputs": [
    {
     "name": "stdout",
     "output_type": "stream",
     "text": [
      "Root Mean Squared Error (RMSE) on test data = 42410.3\n",
      "r2 on test data = 0.712811\n"
     ]
    }
   ],
   "source": [
    "test_result = lr_model.evaluate(df_test)\n",
    "print(\"Root Mean Squared Error (RMSE) on test data = %g\" % test_result.rootMeanSquaredError)\n",
    "print(\"r2 on test data = %g\" % test_result.r2)"
   ]
  }
 ],
 "metadata": {
  "kernelspec": {
   "display_name": "Python 3",
   "language": "python",
   "name": "python3"
  },
  "language_info": {
   "codemirror_mode": {
    "name": "ipython",
    "version": 3
   },
   "file_extension": ".py",
   "mimetype": "text/x-python",
   "name": "python",
   "nbconvert_exporter": "python",
   "pygments_lexer": "ipython3",
   "version": "3.10.11"
  },
  "orig_nbformat": 4
 },
 "nbformat": 4,
 "nbformat_minor": 2
}
