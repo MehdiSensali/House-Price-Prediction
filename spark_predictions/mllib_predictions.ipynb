{
 "cells": [
  {
   "cell_type": "code",
   "execution_count": 1,
   "metadata": {},
   "outputs": [],
   "source": [
    "from pyspark.sql import SparkSession\n",
    "from pyspark.conf import SparkConf\n",
    "from pyspark.sql.types import *\n",
    "from pyspark.sql.functions import *"
   ]
  },
  {
   "cell_type": "code",
   "execution_count": 2,
   "metadata": {},
   "outputs": [
    {
     "data": {
      "text/plain": [
       "<pyspark.conf.SparkConf at 0x1b0be326740>"
      ]
     },
     "execution_count": 2,
     "metadata": {},
     "output_type": "execute_result"
    }
   ],
   "source": [
    "spark_conf = SparkConf()\n",
    "spark_conf.setMaster('local[*]')\n",
    "spark_conf.setAppName('Spark Price predictions')"
   ]
  },
  {
   "cell_type": "code",
   "execution_count": 3,
   "metadata": {},
   "outputs": [],
   "source": [
    "spark = SparkSession.builder.config(conf=spark_conf).getOrCreate()"
   ]
  },
  {
   "cell_type": "code",
   "execution_count": 15,
   "metadata": {},
   "outputs": [],
   "source": [
    "data = spark.read.options(**{\"inferSchema\": True, \"header\": True}).csv(\"../train.csv\")"
   ]
  },
  {
   "cell_type": "markdown",
   "metadata": {},
   "source": [
    "selecting high correlation features based on previous statistic results"
   ]
  },
  {
   "cell_type": "code",
   "execution_count": 5,
   "metadata": {},
   "outputs": [],
   "source": [
    "feature_target_list = ['YearRemodAdd',\n",
    "                      'YearBuilt',\n",
    "                      'TotRmsAbvGrd',\n",
    "                      'FullBath',\n",
    "                      '1stFlrSF',\n",
    "                      'TotalBsmtSF',\n",
    "                      'GarageArea',\n",
    "                      'GarageCars',\n",
    "                      'GrLivArea',\n",
    "                      'OverallQual',\n",
    "                      'SalePrice']"
   ]
  },
  {
   "cell_type": "markdown",
   "metadata": {},
   "source": [
    "ML lib"
   ]
  },
  {
   "cell_type": "code",
   "execution_count": 53,
   "metadata": {},
   "outputs": [],
   "source": [
    "from pyspark.ml.feature import VectorAssembler\n",
    "from pyspark.ml.regression import LinearRegression\n",
    "from pyspark.ml.evaluation import RegressionEvaluator\n",
    "from pyspark.ml.tuning import CrossValidator, ParamGridBuilder"
   ]
  },
  {
   "cell_type": "markdown",
   "metadata": {},
   "source": [
    "Transforming df for ml "
   ]
  },
  {
   "cell_type": "code",
   "execution_count": 24,
   "metadata": {},
   "outputs": [
    {
     "name": "stdout",
     "output_type": "stream",
     "text": [
      "+-------------------------------------------------------+---------+\n",
      "|features                                               |SalePrice|\n",
      "+-------------------------------------------------------+---------+\n",
      "|[2003.0,2003.0,8.0,2.0,856.0,856.0,548.0,2.0,1710.0]   |208500   |\n",
      "|[1976.0,1976.0,6.0,2.0,1262.0,1262.0,460.0,2.0,1262.0] |181500   |\n",
      "|[2002.0,2001.0,6.0,2.0,920.0,920.0,608.0,2.0,1786.0]   |223500   |\n",
      "|[1970.0,1915.0,7.0,1.0,961.0,756.0,642.0,3.0,1717.0]   |140000   |\n",
      "|[2000.0,2000.0,9.0,2.0,1145.0,1145.0,836.0,3.0,2198.0] |250000   |\n",
      "|[1995.0,1993.0,5.0,1.0,796.0,796.0,480.0,2.0,1362.0]   |143000   |\n",
      "|[2005.0,2004.0,7.0,2.0,1694.0,1686.0,636.0,2.0,1694.0] |307000   |\n",
      "|[1973.0,1973.0,7.0,2.0,1107.0,1107.0,484.0,2.0,2090.0] |200000   |\n",
      "|[1950.0,1931.0,8.0,2.0,1022.0,952.0,468.0,2.0,1774.0]  |129900   |\n",
      "|[1950.0,1939.0,5.0,1.0,1077.0,991.0,205.0,1.0,1077.0]  |118000   |\n",
      "|[1965.0,1965.0,5.0,1.0,1040.0,1040.0,384.0,1.0,1040.0] |129500   |\n",
      "|[2006.0,2005.0,11.0,3.0,1182.0,1175.0,736.0,3.0,2324.0]|345000   |\n",
      "|[1962.0,1962.0,4.0,1.0,912.0,912.0,352.0,1.0,912.0]    |144000   |\n",
      "|[2007.0,2006.0,7.0,2.0,1494.0,1494.0,840.0,3.0,1494.0] |279500   |\n",
      "|[1960.0,1960.0,5.0,1.0,1253.0,1253.0,352.0,1.0,1253.0] |157000   |\n",
      "|[2001.0,1929.0,5.0,1.0,854.0,832.0,576.0,2.0,854.0]    |132000   |\n",
      "|[1970.0,1970.0,5.0,1.0,1004.0,1004.0,480.0,2.0,1004.0] |149000   |\n",
      "|[1967.0,1967.0,6.0,2.0,1296.0,0.0,516.0,2.0,1296.0]    |90000    |\n",
      "|[2004.0,2004.0,6.0,1.0,1114.0,1114.0,576.0,2.0,1114.0] |159000   |\n",
      "|[1965.0,1958.0,6.0,1.0,1339.0,1029.0,294.0,1.0,1339.0] |139000   |\n",
      "+-------------------------------------------------------+---------+\n",
      "only showing top 20 rows\n",
      "\n"
     ]
    }
   ],
   "source": [
    "vectorAssembler = VectorAssembler(inputCols=feature_target_list[:-2], outputCol='features')\n",
    "vdf_train_high_corr = vectorAssembler.transform(data.select(feature_target_list))\n",
    "vdf_train_high_corr.select(['features', 'SalePrice']).show(truncate=False)"
   ]
  },
  {
   "cell_type": "markdown",
   "metadata": {},
   "source": [
    "Spliting between train and test"
   ]
  },
  {
   "cell_type": "code",
   "execution_count": 26,
   "metadata": {},
   "outputs": [],
   "source": [
    "splits = vdf_train_high_corr.randomSplit(weights=[0.7, 0.3])\n",
    "df_train = splits[0]\n",
    "df_test = splits[1]"
   ]
  },
  {
   "cell_type": "markdown",
   "metadata": {},
   "source": [
    "Basic Linear Regression"
   ]
  },
  {
   "cell_type": "code",
   "execution_count": 49,
   "metadata": {},
   "outputs": [
    {
     "data": {
      "text/plain": [
       "'Coefficients: [522.4910441586145,480.14980939712626,-1148.2784287271422,-4790.477340576148,1.8933471049330377,35.28537342299903,4.814896790302039,20519.79694469149,73.29905802760118]'"
      ]
     },
     "metadata": {},
     "output_type": "display_data"
    },
    {
     "data": {
      "text/plain": [
       "'Intercept: -1977004.7392636617'"
      ]
     },
     "metadata": {},
     "output_type": "display_data"
    }
   ],
   "source": [
    "lr = LinearRegression(featuresCol= 'features', labelCol='SalePrice', maxIter=10, regParam=0, elasticNetParam=0)\n",
    "lr_model = lr.fit(df_train)\n",
    "display(\"Coefficients: \" + str(lr_model.coefficients))\n",
    "display(\"Intercept: \" + str(lr_model.intercept))"
   ]
  },
  {
   "cell_type": "code",
   "execution_count": 50,
   "metadata": {},
   "outputs": [
    {
     "name": "stdout",
     "output_type": "stream",
     "text": [
      "RMSE: 42151.858129\n",
      "r2: 0.722250\n"
     ]
    }
   ],
   "source": [
    "trainingSummary = lr_model.summary\n",
    "display(\"RMSE: %f\" % trainingSummary.rootMeanSquaredError)\n",
    "display(\"r2: %f\" % trainingSummary.r2)"
   ]
  },
  {
   "cell_type": "code",
   "execution_count": 51,
   "metadata": {},
   "outputs": [
    {
     "name": "stdout",
     "output_type": "stream",
     "text": [
      "+------------------+---------+------------------------------------------------------+\n",
      "|prediction        |SalePrice|features                                              |\n",
      "+------------------+---------+------------------------------------------------------+\n",
      "|90959.85818656604 |79000    |[1950.0,1900.0,6.0,1.0,889.0,540.0,352.0,1.0,1440.0]  |\n",
      "|81960.53696068563 |102776   |[1950.0,1900.0,7.0,1.0,859.0,859.0,384.0,1.0,1178.0]  |\n",
      "|138742.81239069998|122000   |[1950.0,1910.0,9.0,1.0,964.0,925.0,308.0,1.0,1889.0]  |\n",
      "|125657.04468115792|130000   |[1950.0,1911.0,7.0,1.0,1024.0,940.0,0.0,0.0,1964.0]   |\n",
      "|137705.50438091857|104000   |[1950.0,1912.0,8.0,1.0,929.0,755.0,0.0,0.0,2229.0]    |\n",
      "|67263.23952225689 |58500    |[1950.0,1914.0,5.0,1.0,864.0,864.0,200.0,1.0,864.0]   |\n",
      "|149897.3973721112 |153900   |[1950.0,1915.0,7.0,1.0,876.0,876.0,720.0,3.0,1416.0]  |\n",
      "|113368.35550148785|139000   |[1950.0,1915.0,7.0,2.0,966.0,686.0,416.0,1.0,1652.0]  |\n",
      "|81270.01397332363 |108500   |[1950.0,1920.0,5.0,1.0,960.0,960.0,308.0,1.0,960.0]   |\n",
      "|83021.09001678671 |78000    |[1950.0,1920.0,6.0,1.0,596.0,596.0,189.0,1.0,1192.0]  |\n",
      "|94447.65316242585 |40000    |[1950.0,1920.0,6.0,1.0,649.0,649.0,250.0,1.0,1317.0]  |\n",
      "|101421.41708027828|116000   |[1950.0,1920.0,6.0,1.0,734.0,648.0,440.0,2.0,1118.0]  |\n",
      "|106150.5460083806 |105000   |[1950.0,1920.0,6.0,1.0,840.0,840.0,338.0,1.0,1374.0]  |\n",
      "|85866.58002948388 |118400   |[1950.0,1920.0,6.0,1.0,1012.0,1012.0,308.0,1.0,1012.0]|\n",
      "|115518.90424747393|144000   |[1950.0,1920.0,6.0,1.0,1167.0,915.0,495.0,2.0,1167.0] |\n",
      "|131947.37177211558|200100   |[1950.0,1920.0,9.0,1.0,901.0,793.0,216.0,1.0,1802.0]  |\n",
      "|50769.940123409266|99900    |[1950.0,1922.0,4.0,1.0,864.0,864.0,0.0,0.0,864.0]     |\n",
      "|42109.17275290587 |55000    |[1950.0,1922.0,5.0,1.0,796.0,796.0,0.0,0.0,796.0]     |\n",
      "|89876.8454566116  |113000   |[1950.0,1922.0,5.0,1.0,1048.0,993.0,280.0,1.0,1048.0] |\n",
      "|116917.54542251304|103000   |[1950.0,1925.0,5.0,1.0,848.0,780.0,539.0,2.0,1208.0]  |\n",
      "+------------------+---------+------------------------------------------------------+\n",
      "only showing top 20 rows\n",
      "\n"
     ]
    }
   ],
   "source": [
    "lr_predictions = lr_model.transform(df_test.select(\"features\", \"SalePrice\"))\n",
    "lr_predictions.select(\"prediction\",\"SalePrice\",\"features\").show(truncate=False)"
   ]
  },
  {
   "cell_type": "markdown",
   "metadata": {},
   "source": [
    "1st test evaluation method with Regression Evaluator"
   ]
  },
  {
   "cell_type": "code",
   "execution_count": 40,
   "metadata": {},
   "outputs": [
    {
     "name": "stdout",
     "output_type": "stream",
     "text": [
      "R Squared (R2) on test data = 38914.8\n"
     ]
    }
   ],
   "source": [
    "lr_evaluator = RegressionEvaluator(predictionCol=\"prediction\", \\\n",
    "                 labelCol=\"SalePrice\",metricName=\"r2\")\n",
    "display(\"R Squared (R2) on test data = %g\" % lr_evaluator.evaluate(lr_predictions))"
   ]
  },
  {
   "cell_type": "markdown",
   "metadata": {},
   "source": [
    "2nd test evaluation with the evaluate method of the model"
   ]
  },
  {
   "cell_type": "code",
   "execution_count": 39,
   "metadata": {},
   "outputs": [
    {
     "name": "stdout",
     "output_type": "stream",
     "text": [
      "Root Mean Squared Error (RMSE) on test data = 38914.8\n",
      "r2 on test data = 0.751719\n"
     ]
    }
   ],
   "source": [
    "test_result = lr_model.evaluate(df_test)\n",
    "display(\"Root Mean Squared Error (RMSE) on test data = %g\" % test_result.rootMeanSquaredError)\n",
    "display(\"r2 on test data = %g\" % test_result.r2)"
   ]
  },
  {
   "cell_type": "markdown",
   "metadata": {},
   "source": [
    "Lasso (L1) & Ridge (L2) Regressions <=> elasticNetParam isin {0, 1}"
   ]
  },
  {
   "cell_type": "markdown",
   "metadata": {},
   "source": [
    "# Model tuning"
   ]
  },
  {
   "cell_type": "code",
   "execution_count": 52,
   "metadata": {},
   "outputs": [],
   "source": [
    "lasso_regressor = LinearRegression(featuresCol= 'features', labelCol='SalePrice', maxIter=10, regParam=0.3, elasticNetParam=0)\n",
    "ridge_regressor = LinearRegression(featuresCol= 'features', labelCol='SalePrice', maxIter=10, regParam=0.3, elasticNetParam=1)"
   ]
  },
  {
   "cell_type": "markdown",
   "metadata": {},
   "source": [
    "tuning the L1 & L2 penalty parameter"
   ]
  },
  {
   "cell_type": "code",
   "execution_count": 84,
   "metadata": {},
   "outputs": [],
   "source": [
    "# Define the hyperparameter grid\n",
    "param_lasso_grid = ParamGridBuilder() \\\n",
    "    .addGrid(lasso_regressor.regParam, [i/100 for i in range(1, 101)]) \\\n",
    "    .build()\n",
    "param_ridge_grid = ParamGridBuilder() \\\n",
    "    .addGrid(ridge_regressor.regParam, [i/100 for i in range(1, 101)]) \\\n",
    "    .build()\n",
    "# Create the cross-validator\n",
    "evaluator = RegressionEvaluator(predictionCol=\"prediction\", labelCol= \"SalePrice\", metricName=\"rmse\")\n",
    "cross_lasso_validator = CrossValidator(estimator=lasso_regressor,\n",
    "                                 estimatorParamMaps=param_lasso_grid,\n",
    "                                 evaluator=evaluator,\n",
    "                                 numFolds=4)\n",
    "cross_ridge_validator = CrossValidator(estimator=ridge_regressor,\n",
    "                                 estimatorParamMaps=param_ridge_grid,\n",
    "                                 evaluator=evaluator,\n",
    "                                 numFolds=4)\n",
    "\n",
    "# Train the model with the best hyperparameters\n",
    "cv_lasso_model = cross_lasso_validator.fit(vdf_train_high_corr)\n",
    "cv_ridgemodel = cross_ridge_validator.fit(vdf_train_high_corr)\n",
    "lasso_model = cv_lasso_model.bestModel\n",
    "ridge_model = cv_ridgemodel.bestModel"
   ]
  },
  {
   "cell_type": "code",
   "execution_count": 85,
   "metadata": {},
   "outputs": [
    {
     "data": {
      "text/plain": [
       "'Root Mean Squared Error (RMSE) for L1 regression on test data = 38714.2'"
      ]
     },
     "metadata": {},
     "output_type": "display_data"
    },
    {
     "data": {
      "text/plain": [
       "'r2 for L1 regression on test data = 0.754272'"
      ]
     },
     "metadata": {},
     "output_type": "display_data"
    },
    {
     "data": {
      "text/plain": [
       "'L1 Coefficients: [545.6614517799065,462.1082118401447,-1058.2657506500384,-5185.525238359562,5.371284737560781,35.46216161264968,12.708039875139802,17080.990775699876,72.3308966828245]'"
      ]
     },
     "metadata": {},
     "output_type": "display_data"
    },
    {
     "data": {
      "text/plain": [
       "'L1 Intercept: -1987622.5477146052'"
      ]
     },
     "metadata": {},
     "output_type": "display_data"
    },
    {
     "data": {
      "text/plain": [
       "'--------------------------------------------------------------------------------------------------------------------------------------------------------------------------------------------------------'"
      ]
     },
     "metadata": {},
     "output_type": "display_data"
    },
    {
     "data": {
      "text/plain": [
       "'Root Mean Squared Error (RMSE) for L2 regression on test data = 38621.9'"
      ]
     },
     "metadata": {},
     "output_type": "display_data"
    },
    {
     "data": {
      "text/plain": [
       "'r2 for L2 regression on test data = 0.755442'"
      ]
     },
     "metadata": {},
     "output_type": "display_data"
    },
    {
     "data": {
      "text/plain": [
       "'L2 Coefficients: [559.9068401752854,499.74624041673945,-0.0,-7814.730476072821,9.117005457922453,32.91990550595245,22.644033135218134,13085.203754731148,70.4066191361842]'"
      ]
     },
     "metadata": {},
     "output_type": "display_data"
    },
    {
     "data": {
      "text/plain": [
       "'L2 Intercept: -2089263.9771832146'"
      ]
     },
     "metadata": {},
     "output_type": "display_data"
    },
    {
     "data": {
      "text/plain": [
       "'--------------------------------------------------------------------------------------------------------------------------------------------------------------------------------------------------------'"
      ]
     },
     "metadata": {},
     "output_type": "display_data"
    }
   ],
   "source": [
    "test_result = lasso_model.evaluate(df_test)\n",
    "display(\"Root Mean Squared Error (RMSE) for L1 regression on test data = %g\" % test_result.rootMeanSquaredError)\n",
    "display(\"r2 for L1 regression on test data = %g\" % test_result.r2)\n",
    "display(\"L1 Coefficients: \" + str(lasso_model.coefficients))\n",
    "display(\"L1 Intercept: \" + str(lasso_model.intercept))\n",
    "display(f\"{'-'*200}\")\n",
    "test_result = ridge_model.evaluate(df_test)\n",
    "display(\"Root Mean Squared Error (RMSE) for L2 regression on test data = %g\" % test_result.rootMeanSquaredError)\n",
    "display(\"r2 for L2 regression on test data = %g\" % test_result.r2)\n",
    "display(\"L2 Coefficients: \" + str(ridge_model.coefficients))\n",
    "display(\"L2 Intercept: \" + str(ridge_model.intercept))\n",
    "display(f\"{'-'*200}\")"
   ]
  },
  {
   "cell_type": "markdown",
   "metadata": {},
   "source": [
    "Tuning the [Elastic net](http://users.stat.umn.edu/~zouxx019/Papers/elasticnet.pdf) parameter along with L1 & L2 penalty parameter"
   ]
  },
  {
   "cell_type": "code",
   "execution_count": 86,
   "metadata": {},
   "outputs": [],
   "source": [
    "elastic_net_regressor = LinearRegression(featuresCol= 'features', labelCol='SalePrice', maxIter=10, regParam=0.3, elasticNetParam=0.3)"
   ]
  },
  {
   "cell_type": "code",
   "execution_count": 92,
   "metadata": {},
   "outputs": [],
   "source": [
    "# Define the hyperparameter grid\n",
    "param_elastic_net_grid = ParamGridBuilder() \\\n",
    "    .addGrid(elastic_net_regressor.regParam, [i/10 for i in range(1, 11)]) \\\n",
    "    .addGrid(elastic_net_regressor.elasticNetParam, [i/100 for i in range(1, 101)]) \\\n",
    "    .build()\n",
    "# Create the cross-validator\n",
    "evaluator = RegressionEvaluator(predictionCol=\"prediction\", labelCol= \"SalePrice\", metricName=\"rmse\")\n",
    "cross_elastic_net_validator = CrossValidator(estimator=elastic_net_regressor,\n",
    "                                 estimatorParamMaps=param_elastic_net_grid,\n",
    "                                 evaluator=evaluator,\n",
    "                                 numFolds=4)\n",
    "\n",
    "# Train the model with the best hyperparameters\n",
    "cv_elastic_netmodel = cross_elastic_net_validator.fit(vdf_train_high_corr)\n",
    "elastic_net_model = cv_elastic_netmodel.bestModel"
   ]
  },
  {
   "cell_type": "code",
   "execution_count": 93,
   "metadata": {},
   "outputs": [
    {
     "data": {
      "text/plain": [
       "'Root Mean Squared Error (RMSE) for elastic net regression on test data = 38622'"
      ]
     },
     "metadata": {},
     "output_type": "display_data"
    },
    {
     "data": {
      "text/plain": [
       "'r2 for elastic net regression on test data = 0.755441'"
      ]
     },
     "metadata": {},
     "output_type": "display_data"
    },
    {
     "data": {
      "text/plain": [
       "'elastic net Coefficients: [559.9034282189132,499.7332361247397,-0.0,-7813.064554494469,9.118087976336266,32.918226592239634,22.6459917277541,13085.181709636448,70.4023426973258]'"
      ]
     },
     "metadata": {},
     "output_type": "display_data"
    },
    {
     "data": {
      "text/plain": [
       "'elastic net Intercept: -2089228.0671101795'"
      ]
     },
     "metadata": {},
     "output_type": "display_data"
    },
    {
     "data": {
      "text/plain": [
       "'--------------------------------------------------------------------------------------------------------------------------------------------------------------------------------------------------------'"
      ]
     },
     "metadata": {},
     "output_type": "display_data"
    }
   ],
   "source": [
    "test_result = elastic_net_model.evaluate(df_test)\n",
    "display(\"Root Mean Squared Error (RMSE) for elastic net regression on test data = %g\" % test_result.rootMeanSquaredError)\n",
    "display(\"r2 for elastic net regression on test data = %g\" % test_result.r2)\n",
    "display(\"elastic net Coefficients: \" + str(elastic_net_model.coefficients))\n",
    "display(\"elastic net Intercept: \" + str(elastic_net_model.intercept))\n",
    "display(f\"{'-'*200}\")"
   ]
  }
 ],
 "metadata": {
  "kernelspec": {
   "display_name": "Python 3",
   "language": "python",
   "name": "python3"
  },
  "language_info": {
   "codemirror_mode": {
    "name": "ipython",
    "version": 3
   },
   "file_extension": ".py",
   "mimetype": "text/x-python",
   "name": "python",
   "nbconvert_exporter": "python",
   "pygments_lexer": "ipython3",
   "version": "3.10.11"
  },
  "orig_nbformat": 4
 },
 "nbformat": 4,
 "nbformat_minor": 2
}
